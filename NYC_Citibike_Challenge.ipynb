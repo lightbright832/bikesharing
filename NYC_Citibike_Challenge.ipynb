{
 "cells": [
  {
   "cell_type": "code",
   "execution_count": 7,
   "id": "a9dba574-a2d3-4dd7-85ac-2e31f27e2394",
   "metadata": {},
   "outputs": [],
   "source": [
    "#!/usr/bin/env python\n",
    "# coding: utf-8\n",
    "\n",
    "# In[1]:\n",
    "\n",
    "import pandas as pd\n",
    "import datetime\n",
    "\n",
    "# In[2]:\n",
    "\n",
    "# 1. Create a DataFrame for the 201908-citibike-tripdata data. \n",
    "# load data\n",
    "data = '201908-citibike-tripdata.csv'\n",
    "data_df = pd.read_csv(data)\n",
    "data_df\n",
    "\n",
    "# In[3]:\n",
    "\n",
    "# 2. Check the datatypes of your columns \n",
    "data_df.dtypes\n",
    "\n",
    "# In[4]:\n",
    "\n",
    "# 3. Convert the 'tripduration' column to datetime\n",
    "\n",
    "trip_data = pd.to_datetime(data_df.tripduration, unit='s')\n",
    "trip_data\n",
    "\n",
    "# In[5]:\n",
    "\n",
    "## Add new column for the datetime trip duration\n",
    "data_df['tripduration'] = trip_data\n",
    "\n",
    "# In[6]:\n",
    "\n",
    "data_df\n",
    "\n",
    "# In[7]:\n",
    "\n",
    "# 4. Check the datatypes of your columns. \n",
    "data_df.dtypes\n",
    "\n",
    "# In[9]:\n",
    "\n",
    "# 5. Export the Dataframe as a new CSV file without the index.\n",
    "data_df.to_csv(\"citibike_new.csv\", index = False)\n",
    "\n",
    "# In[ ]:"
   ]
  },
  {
   "cell_type": "code",
   "execution_count": null,
   "id": "c62396f2-06bd-476b-acab-3045a8808cdb",
   "metadata": {},
   "outputs": [],
   "source": []
  },
  {
   "cell_type": "code",
   "execution_count": null,
   "id": "6c9814eb-d0d6-454e-a893-629221fddde7",
   "metadata": {},
   "outputs": [],
   "source": []
  },
  {
   "cell_type": "code",
   "execution_count": null,
   "id": "e57eabd6-e97f-4709-af01-98d7acbfaaae",
   "metadata": {},
   "outputs": [],
   "source": []
  }
 ],
 "metadata": {
  "kernelspec": {
   "display_name": "Python 3 (ipykernel)",
   "language": "python",
   "name": "python3"
  },
  "language_info": {
   "codemirror_mode": {
    "name": "ipython",
    "version": 3
   },
   "file_extension": ".py",
   "mimetype": "text/x-python",
   "name": "python",
   "nbconvert_exporter": "python",
   "pygments_lexer": "ipython3",
   "version": "3.9.7"
  }
 },
 "nbformat": 4,
 "nbformat_minor": 5
}
